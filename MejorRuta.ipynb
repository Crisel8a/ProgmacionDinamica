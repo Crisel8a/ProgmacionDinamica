{
  "nbformat": 4,
  "nbformat_minor": 0,
  "metadata": {
    "colab": {
      "provenance": []
    },
    "kernelspec": {
      "name": "python3",
      "display_name": "Python 3"
    },
    "language_info": {
      "name": "python"
    }
  },
  "cells": [
    {
      "cell_type": "code",
      "source": [
        "from itertools import permutations\n",
        "\n",
        "# Datos\n",
        "jobs = [1, 2, 3, 4]\n",
        "processing_times = {1: 2, 2: 4, 3: 6, 4: 8}\n",
        "due_dates = {1: 14, 2: 14, 3: 10, 4: 16}\n",
        "\n",
        "# Función para calcular el retraso total dado un orden de trabajos\n",
        "def calculate_total_delay(order):\n",
        "    current_time = 0\n",
        "    total_delay = 0\n",
        "    for job in order:\n",
        "        current_time += processing_times[job]\n",
        "        delay = max(0, current_time - due_dates[job])\n",
        "        total_delay += delay\n",
        "    return total_delay\n",
        "\n",
        "# Inicialización\n",
        "min_delay = float('inf')\n",
        "best_order = []\n",
        "\n",
        "# Probar todas las permutaciones posibles de los trabajos\n",
        "for order in permutations(jobs):\n",
        "    total_delay = calculate_total_delay(order)\n",
        "    if total_delay < min_delay:\n",
        "        min_delay = total_delay\n",
        "        best_order = order\n",
        "\n",
        "# Resultados\n",
        "print(f'Minimum total delay: {min_delay}')\n",
        "print(f'Best order: {best_order}')\n"
      ],
      "metadata": {
        "colab": {
          "base_uri": "https://localhost:8080/"
        },
        "id": "n6_WYCHTybWg",
        "outputId": "33579729-a229-4792-a028-804aa59df170"
      },
      "execution_count": 1,
      "outputs": [
        {
          "output_type": "stream",
          "name": "stdout",
          "text": [
            "Minimum total delay: 4\n",
            "Best order: (1, 3, 2, 4)\n"
          ]
        }
      ]
    },
    {
      "cell_type": "code",
      "execution_count": 2,
      "metadata": {
        "colab": {
          "base_uri": "https://localhost:8080/"
        },
        "id": "C6YMCVwXwdCJ",
        "outputId": "38c294ea-b8fa-4097-d1e7-d5a63d1bd26e"
      },
      "outputs": [
        {
          "output_type": "stream",
          "name": "stdout",
          "text": [
            "Minimum total delay: 4\n",
            "Best orders: [(1, 3, 2, 4), (2, 3, 1, 4), (3, 1, 2, 4), (3, 2, 1, 4)]\n"
          ]
        }
      ],
      "source": [
        "from itertools import permutations\n",
        "\n",
        "# Datos\n",
        "jobs = [1, 2, 3, 4]\n",
        "processing_times = {1: 2, 2: 4, 3: 6, 4: 8}\n",
        "due_dates = {1: 14, 2: 14, 3: 10, 4: 16}\n",
        "\n",
        "# Función para calcular el retraso total dado un orden de trabajos\n",
        "def calculate_total_delay(order):\n",
        "    current_time = 0\n",
        "    total_delay = 0\n",
        "    for job in order:\n",
        "        current_time += processing_times[job]\n",
        "        delay = max(0, current_time - due_dates[job])\n",
        "        total_delay += delay\n",
        "    return total_delay\n",
        "\n",
        "# Inicialización\n",
        "min_delay = float('inf')\n",
        "best_orders = []\n",
        "\n",
        "# Probar todas las permutaciones posibles de los trabajos\n",
        "for order in permutations(jobs):\n",
        "    total_delay = calculate_total_delay(order)\n",
        "    if total_delay < min_delay:\n",
        "        min_delay = total_delay\n",
        "        best_orders = [order]\n",
        "    elif total_delay == min_delay:\n",
        "        best_orders.append(order)\n",
        "\n",
        "# Resultados\n",
        "print(f'Minimum total delay: {min_delay}')\n",
        "print(f'Best orders: {best_orders}')\n"
      ]
    },
    {
      "cell_type": "code",
      "source": [],
      "metadata": {
        "id": "Xz_BgSA02pi9"
      },
      "execution_count": null,
      "outputs": []
    }
  ]
}